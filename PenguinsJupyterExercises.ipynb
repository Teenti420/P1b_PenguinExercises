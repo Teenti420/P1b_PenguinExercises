{
  "cells": [
    {
      "cell_type": "markdown",
      "metadata": {
        "id": "U4uv3LKHXnts"
      },
      "source": [
        "# Mi primer proyecto\n",
        "Volvemos a encontrarnos con el conjunto de datos de pingüinos PalmerPenguins. Esta vez trabajaremos con ellos desde Python, para ello instalaremos el paquete que nos permitirá cargarlo:"
      ]
    },
    {
      "cell_type": "code",
      "execution_count": 99,
      "metadata": {
        "colab": {
          "base_uri": "https://localhost:8080/"
        },
        "id": "-x8IO5dIlljw",
        "outputId": "e91a065e-8297-4373-d2c8-fc656fa2f6dd"
      },
      "outputs": [
        {
          "name": "stdout",
          "output_type": "stream",
          "text": [
            "Requirement already satisfied: palmerpenguins in c:\\users\\sebas\\documents\\python_class\\my_first_project\\venv\\lib\\site-packages (0.1.4)\n",
            "Requirement already satisfied: numpy in c:\\users\\sebas\\documents\\python_class\\my_first_project\\venv\\lib\\site-packages (from palmerpenguins) (1.23.4)\n",
            "Requirement already satisfied: pandas in c:\\users\\sebas\\documents\\python_class\\my_first_project\\venv\\lib\\site-packages (from palmerpenguins) (1.5.1)\n",
            "Requirement already satisfied: python-dateutil>=2.8.1 in c:\\users\\sebas\\documents\\python_class\\my_first_project\\venv\\lib\\site-packages (from pandas->palmerpenguins) (2.8.2)\n",
            "Requirement already satisfied: pytz>=2020.1 in c:\\users\\sebas\\documents\\python_class\\my_first_project\\venv\\lib\\site-packages (from pandas->palmerpenguins) (2022.5)\n",
            "Requirement already satisfied: six>=1.5 in c:\\users\\sebas\\documents\\python_class\\my_first_project\\venv\\lib\\site-packages (from python-dateutil>=2.8.1->pandas->palmerpenguins) (1.16.0)\n"
          ]
        },
        {
          "name": "stderr",
          "output_type": "stream",
          "text": [
            "\n",
            "[notice] A new release of pip available: 22.2.2 -> 22.3.1\n",
            "[notice] To update, run: python.exe -m pip install --upgrade pip\n"
          ]
        }
      ],
      "source": [
        "!pip install palmerpenguins"
      ]
    },
    {
      "cell_type": "markdown",
      "metadata": {
        "id": "gwbv_Pc9l_G0"
      },
      "source": [
        "En segundo lugar, importaremos las librerías necesarias:"
      ]
    },
    {
      "cell_type": "code",
      "execution_count": 100,
      "metadata": {
        "id": "mgvqMB4SmCVE"
      },
      "outputs": [],
      "source": [
        "import pandas as pd\n",
        "import numpy as np\n",
        "from palmerpenguins import load_penguins"
      ]
    },
    {
      "cell_type": "markdown",
      "metadata": {
        "id": "BAOgOXTIX2JY"
      },
      "source": [
        "Ahora ya estamos en posición de empezar a trabajar con los datos.\n",
        "\n",
        "1. Vamos a cargar el conjunto de datos. Muestra por pantalla el número de observaciones y sus características. Mira el tipo de datos de cada una de sus columnas."
      ]
    },
    {
      "cell_type": "code",
      "execution_count": 101,
      "metadata": {
        "colab": {
          "base_uri": "https://localhost:8080/"
        },
        "id": "_x5T79rPX29e",
        "outputId": "471cf3ad-6060-43e7-907f-79c0f201ada6"
      },
      "outputs": [
        {
          "data": {
            "text/plain": [
              "(344, 8)"
            ]
          },
          "execution_count": 101,
          "metadata": {},
          "output_type": "execute_result"
        }
      ],
      "source": [
        "penguins = load_penguins()\n",
        "penguins\n",
        "penguins.shape"
      ]
    },
    {
      "cell_type": "markdown",
      "metadata": {
        "id": "-hd1FloeYQwB"
      },
      "source": [
        "Como podemos observar tenemos 344 regiostros con 8 columnas o atributos cada uno de ellos."
      ]
    },
    {
      "cell_type": "code",
      "execution_count": 102,
      "metadata": {
        "colab": {
          "base_uri": "https://localhost:8080/"
        },
        "id": "O6c_lo44YZ03",
        "outputId": "726bd85a-c54d-454e-bf60-3df24ab20245"
      },
      "outputs": [
        {
          "data": {
            "text/plain": [
              "Index(['species', 'island', 'bill_length_mm', 'bill_depth_mm',\n",
              "       'flipper_length_mm', 'body_mass_g', 'sex', 'year'],\n",
              "      dtype='object')"
            ]
          },
          "execution_count": 102,
          "metadata": {},
          "output_type": "execute_result"
        }
      ],
      "source": [
        "penguins.columns"
      ]
    },
    {
      "cell_type": "markdown",
      "metadata": {
        "id": "FfE-7jrnYlTP"
      },
      "source": [
        "Ahora vamos a ver los tipos de los datos:"
      ]
    },
    {
      "cell_type": "code",
      "execution_count": 103,
      "metadata": {
        "colab": {
          "base_uri": "https://localhost:8080/"
        },
        "id": "vNVWEZfaYoMs",
        "outputId": "9995ab4e-a57e-461d-c2b0-3330fd96f3a4"
      },
      "outputs": [
        {
          "name": "stdout",
          "output_type": "stream",
          "text": [
            "<class 'pandas.core.frame.DataFrame'>\n",
            "RangeIndex: 344 entries, 0 to 343\n",
            "Data columns (total 8 columns):\n",
            " #   Column             Non-Null Count  Dtype  \n",
            "---  ------             --------------  -----  \n",
            " 0   species            344 non-null    object \n",
            " 1   island             344 non-null    object \n",
            " 2   bill_length_mm     342 non-null    float64\n",
            " 3   bill_depth_mm      342 non-null    float64\n",
            " 4   flipper_length_mm  342 non-null    float64\n",
            " 5   body_mass_g        342 non-null    float64\n",
            " 6   sex                333 non-null    object \n",
            " 7   year               344 non-null    int64  \n",
            "dtypes: float64(4), int64(1), object(3)\n",
            "memory usage: 21.6+ KB\n"
          ]
        }
      ],
      "source": [
        "penguins.info()"
      ]
    },
    {
      "cell_type": "markdown",
      "metadata": {
        "id": "9dovItygYtSn"
      },
      "source": [
        "Y una pequeña descripción:"
      ]
    },
    {
      "cell_type": "code",
      "execution_count": 104,
      "metadata": {
        "colab": {
          "base_uri": "https://localhost:8080/",
          "height": 300
        },
        "id": "wldJ2fT4YwIS",
        "outputId": "6f326b86-58ba-43b7-d241-a9c3e2c7ae95"
      },
      "outputs": [
        {
          "data": {
            "text/html": [
              "<div>\n",
              "<style scoped>\n",
              "    .dataframe tbody tr th:only-of-type {\n",
              "        vertical-align: middle;\n",
              "    }\n",
              "\n",
              "    .dataframe tbody tr th {\n",
              "        vertical-align: top;\n",
              "    }\n",
              "\n",
              "    .dataframe thead th {\n",
              "        text-align: right;\n",
              "    }\n",
              "</style>\n",
              "<table border=\"1\" class=\"dataframe\">\n",
              "  <thead>\n",
              "    <tr style=\"text-align: right;\">\n",
              "      <th></th>\n",
              "      <th>bill_length_mm</th>\n",
              "      <th>bill_depth_mm</th>\n",
              "      <th>flipper_length_mm</th>\n",
              "      <th>body_mass_g</th>\n",
              "      <th>year</th>\n",
              "    </tr>\n",
              "  </thead>\n",
              "  <tbody>\n",
              "    <tr>\n",
              "      <th>count</th>\n",
              "      <td>342.000000</td>\n",
              "      <td>342.000000</td>\n",
              "      <td>342.000000</td>\n",
              "      <td>342.000000</td>\n",
              "      <td>344.000000</td>\n",
              "    </tr>\n",
              "    <tr>\n",
              "      <th>mean</th>\n",
              "      <td>43.921930</td>\n",
              "      <td>17.151170</td>\n",
              "      <td>200.915205</td>\n",
              "      <td>4201.754386</td>\n",
              "      <td>2008.029070</td>\n",
              "    </tr>\n",
              "    <tr>\n",
              "      <th>std</th>\n",
              "      <td>5.459584</td>\n",
              "      <td>1.974793</td>\n",
              "      <td>14.061714</td>\n",
              "      <td>801.954536</td>\n",
              "      <td>0.818356</td>\n",
              "    </tr>\n",
              "    <tr>\n",
              "      <th>min</th>\n",
              "      <td>32.100000</td>\n",
              "      <td>13.100000</td>\n",
              "      <td>172.000000</td>\n",
              "      <td>2700.000000</td>\n",
              "      <td>2007.000000</td>\n",
              "    </tr>\n",
              "    <tr>\n",
              "      <th>25%</th>\n",
              "      <td>39.225000</td>\n",
              "      <td>15.600000</td>\n",
              "      <td>190.000000</td>\n",
              "      <td>3550.000000</td>\n",
              "      <td>2007.000000</td>\n",
              "    </tr>\n",
              "    <tr>\n",
              "      <th>50%</th>\n",
              "      <td>44.450000</td>\n",
              "      <td>17.300000</td>\n",
              "      <td>197.000000</td>\n",
              "      <td>4050.000000</td>\n",
              "      <td>2008.000000</td>\n",
              "    </tr>\n",
              "    <tr>\n",
              "      <th>75%</th>\n",
              "      <td>48.500000</td>\n",
              "      <td>18.700000</td>\n",
              "      <td>213.000000</td>\n",
              "      <td>4750.000000</td>\n",
              "      <td>2009.000000</td>\n",
              "    </tr>\n",
              "    <tr>\n",
              "      <th>max</th>\n",
              "      <td>59.600000</td>\n",
              "      <td>21.500000</td>\n",
              "      <td>231.000000</td>\n",
              "      <td>6300.000000</td>\n",
              "      <td>2009.000000</td>\n",
              "    </tr>\n",
              "  </tbody>\n",
              "</table>\n",
              "</div>"
            ],
            "text/plain": [
              "       bill_length_mm  bill_depth_mm  flipper_length_mm  body_mass_g  \\\n",
              "count      342.000000     342.000000         342.000000   342.000000   \n",
              "mean        43.921930      17.151170         200.915205  4201.754386   \n",
              "std          5.459584       1.974793          14.061714   801.954536   \n",
              "min         32.100000      13.100000         172.000000  2700.000000   \n",
              "25%         39.225000      15.600000         190.000000  3550.000000   \n",
              "50%         44.450000      17.300000         197.000000  4050.000000   \n",
              "75%         48.500000      18.700000         213.000000  4750.000000   \n",
              "max         59.600000      21.500000         231.000000  6300.000000   \n",
              "\n",
              "              year  \n",
              "count   344.000000  \n",
              "mean   2008.029070  \n",
              "std       0.818356  \n",
              "min    2007.000000  \n",
              "25%    2007.000000  \n",
              "50%    2008.000000  \n",
              "75%    2009.000000  \n",
              "max    2009.000000  "
            ]
          },
          "execution_count": 104,
          "metadata": {},
          "output_type": "execute_result"
        }
      ],
      "source": [
        "penguins.describe()"
      ]
    },
    {
      "cell_type": "markdown",
      "metadata": {
        "id": "j36Jj0fVY8HR"
      },
      "source": [
        "2. Ya sabemos que este conjunto de datos tiene observaciones NA. Vamos a eliminarlas y a verificar que efectivamente no queda ninguno:\n",
        "\n"
      ]
    },
    {
      "cell_type": "code",
      "execution_count": 105,
      "metadata": {
        "colab": {
          "base_uri": "https://localhost:8080/"
        },
        "id": "6GQRuAe3Y_Ar",
        "outputId": "da35b5ee-a6f2-44ed-ee08-ad4e3a243b55"
      },
      "outputs": [
        {
          "data": {
            "text/plain": [
              "species                 Adelie\n",
              "island               Torgersen\n",
              "bill_length_mm             NaN\n",
              "bill_depth_mm              NaN\n",
              "flipper_length_mm          NaN\n",
              "body_mass_g                NaN\n",
              "sex                        NaN\n",
              "year                      2007\n",
              "Name: 3, dtype: object"
            ]
          },
          "execution_count": 105,
          "metadata": {},
          "output_type": "execute_result"
        }
      ],
      "source": [
        "penguins.head(5).loc[3]"
      ]
    },
    {
      "cell_type": "markdown",
      "metadata": {
        "id": "tVdqowo7ZUjm"
      },
      "source": [
        "Como podemos ver en este caso por ejemplo tenemos muchos valores NaN o \"missing\". Vamos a eliminar dichos valores para poder tener unos datos más limpios y tractables."
      ]
    },
    {
      "cell_type": "code",
      "execution_count": 106,
      "metadata": {
        "colab": {
          "base_uri": "https://localhost:8080/"
        },
        "id": "6wc1-2EBaNmA",
        "outputId": "f4674ffc-ffaa-4384-8513-6e180db875b6"
      },
      "outputs": [
        {
          "data": {
            "text/plain": [
              "species              344\n",
              "island               344\n",
              "bill_length_mm       342\n",
              "bill_depth_mm        342\n",
              "flipper_length_mm    342\n",
              "body_mass_g          342\n",
              "sex                  333\n",
              "year                 344\n",
              "dtype: int64"
            ]
          },
          "execution_count": 106,
          "metadata": {},
          "output_type": "execute_result"
        }
      ],
      "source": [
        "penguins_without_na = penguins.dropna()\n",
        "penguins.columns[penguins.isna().any()]\n",
        "penguins.notna().sum()\n",
        "penguins.notnull().sum() # es equivalente a not na en pandas, pero no en numpy"
      ]
    },
    {
      "cell_type": "markdown",
      "metadata": {
        "id": "1Q7_xmkeb9VG"
      },
      "source": [
        "3. ¿Cuántos individuos hay de cada sexo? Puedes obtener la longitud media del pico según el sexo:"
      ]
    },
    {
      "cell_type": "code",
      "execution_count": 107,
      "metadata": {
        "colab": {
          "base_uri": "https://localhost:8080/"
        },
        "id": "dgPR4tt1cEDD",
        "outputId": "fb92e677-5d8d-4af8-c4af-f640119995f5"
      },
      "outputs": [
        {
          "data": {
            "text/plain": [
              "Index(['species', 'island', 'bill_length_mm', 'bill_depth_mm',\n",
              "       'flipper_length_mm', 'body_mass_g', 'sex', 'year'],\n",
              "      dtype='object')"
            ]
          },
          "execution_count": 107,
          "metadata": {},
          "output_type": "execute_result"
        }
      ],
      "source": [
        "penguins_without_na.columns"
      ]
    },
    {
      "cell_type": "markdown",
      "metadata": {
        "id": "iavOmtX8cPwp"
      },
      "source": [
        "Es casi seguro que debamos explorar la columna sex del data set"
      ]
    },
    {
      "cell_type": "code",
      "execution_count": 108,
      "metadata": {
        "colab": {
          "base_uri": "https://localhost:8080/"
        },
        "id": "qNnbXOVTcVN7",
        "outputId": "0e441d1e-9d1f-4296-acc1-5230d585651a"
      },
      "outputs": [
        {
          "data": {
            "text/plain": [
              "array(['female', 'male'], dtype=object)"
            ]
          },
          "execution_count": 108,
          "metadata": {},
          "output_type": "execute_result"
        }
      ],
      "source": [
        "# penguins_without_na[\"sex\"].head(5)\n",
        "# penguins_without_na[\"sex\"]\n",
        "np.unique(penguins_without_na[\"sex\"])"
      ]
    },
    {
      "cell_type": "markdown",
      "metadata": {
        "id": "PgHLskN_ck2s"
      },
      "source": [
        "Como podemos ver tenemos dos columnas diferentes de sex. Estas son 'male' y 'female'. Ahora vamos a contar cuantos individuos tenemos de cada uno de los tipos."
      ]
    },
    {
      "cell_type": "code",
      "execution_count": 109,
      "metadata": {
        "id": "VlZVPrj8AaPh"
      },
      "outputs": [
        {
          "data": {
            "text/plain": [
              "168"
            ]
          },
          "execution_count": 109,
          "metadata": {},
          "output_type": "execute_result"
        }
      ],
      "source": [
        "sex_col = penguins_without_na[\"sex\"]\n",
        "male_regs = penguins_without_na[sex_col == 'male']\n",
        "total_male = male_regs.shape[0]\n",
        "total_male"
      ]
    },
    {
      "cell_type": "markdown",
      "metadata": {
        "id": "VbyhAbMYBHUf"
      },
      "source": [
        "Como vemos tenemos 168 registros que son masculinos o 'male'. Si hacemos la diferencia con el total ya deberiamos obtener los femeninos o female."
      ]
    },
    {
      "cell_type": "code",
      "execution_count": 110,
      "metadata": {
        "colab": {
          "base_uri": "https://localhost:8080/"
        },
        "id": "gVQeU7w0BUck",
        "outputId": "0222253e-6e3b-4394-f580-4320bcce5a4b"
      },
      "outputs": [
        {
          "data": {
            "text/plain": [
              "165"
            ]
          },
          "execution_count": 110,
          "metadata": {},
          "output_type": "execute_result"
        }
      ],
      "source": [
        "penguins_without_na.shape[0]-total_male"
      ]
    },
    {
      "cell_type": "markdown",
      "metadata": {
        "id": "3XE8y86qB0ep"
      },
      "source": [
        "Es decir que hay un total de 168 individuos femeninos. Podemos hecer lo mismo que con los masculinos para ver si el resultado es igual."
      ]
    },
    {
      "cell_type": "code",
      "execution_count": 111,
      "metadata": {
        "colab": {
          "base_uri": "https://localhost:8080/"
        },
        "id": "cFQWfBnwB_zv",
        "outputId": "25273594-8a3e-4a18-f8e8-52ad519d8215"
      },
      "outputs": [
        {
          "data": {
            "text/plain": [
              "165"
            ]
          },
          "execution_count": 111,
          "metadata": {},
          "output_type": "execute_result"
        }
      ],
      "source": [
        "female_regs = penguins_without_na[sex_col == 'female']\n",
        "female_regs.shape[0]"
      ]
    },
    {
      "cell_type": "markdown",
      "metadata": {
        "id": "D0ymjMOuCo4v"
      },
      "source": [
        "Como podemos ver, de las dos formas obtememos el mismo resultado, como era de esperar. Por tanto, tenemos un total de 168 registros masculinos y 156 femeninos."
      ]
    },
    {
      "cell_type": "markdown",
      "metadata": {
        "id": "t6BBrFF_DdMk"
      },
      "source": [
        "Para obtener el tamaño medio del pico vamos a usar la función describe, que nos da mucha información sobre nuestro data set. Como los datos ya estan separados en el paso anterior solo hará falta aplicar las funciones sobre los datos filtrados."
      ]
    },
    {
      "cell_type": "code",
      "execution_count": 112,
      "metadata": {
        "colab": {
          "base_uri": "https://localhost:8080/",
          "height": 81
        },
        "id": "jk3pnlPHDmgj",
        "outputId": "c558b21b-3e6a-4af4-c972-00517072e63a"
      },
      "outputs": [
        {
          "data": {
            "text/html": [
              "<div>\n",
              "<style scoped>\n",
              "    .dataframe tbody tr th:only-of-type {\n",
              "        vertical-align: middle;\n",
              "    }\n",
              "\n",
              "    .dataframe tbody tr th {\n",
              "        vertical-align: top;\n",
              "    }\n",
              "\n",
              "    .dataframe thead th {\n",
              "        text-align: right;\n",
              "    }\n",
              "</style>\n",
              "<table border=\"1\" class=\"dataframe\">\n",
              "  <thead>\n",
              "    <tr style=\"text-align: right;\">\n",
              "      <th></th>\n",
              "      <th>bill_length_mm</th>\n",
              "      <th>bill_depth_mm</th>\n",
              "    </tr>\n",
              "  </thead>\n",
              "  <tbody>\n",
              "    <tr>\n",
              "      <th>mean</th>\n",
              "      <td>45.854762</td>\n",
              "      <td>17.891071</td>\n",
              "    </tr>\n",
              "  </tbody>\n",
              "</table>\n",
              "</div>"
            ],
            "text/plain": [
              "      bill_length_mm  bill_depth_mm\n",
              "mean       45.854762      17.891071"
            ]
          },
          "execution_count": 112,
          "metadata": {},
          "output_type": "execute_result"
        }
      ],
      "source": [
        "#Calculamos la longitud media del pico en hombres\n",
        "male_regs[male_regs.columns[2:4]].describe().iloc[1:2]"
      ]
    },
    {
      "cell_type": "code",
      "execution_count": 113,
      "metadata": {
        "colab": {
          "base_uri": "https://localhost:8080/",
          "height": 81
        },
        "id": "GkmdR1AcEfbq",
        "outputId": "aea4582a-9611-4685-8562-ad65b2c28315"
      },
      "outputs": [
        {
          "data": {
            "text/html": [
              "<div>\n",
              "<style scoped>\n",
              "    .dataframe tbody tr th:only-of-type {\n",
              "        vertical-align: middle;\n",
              "    }\n",
              "\n",
              "    .dataframe tbody tr th {\n",
              "        vertical-align: top;\n",
              "    }\n",
              "\n",
              "    .dataframe thead th {\n",
              "        text-align: right;\n",
              "    }\n",
              "</style>\n",
              "<table border=\"1\" class=\"dataframe\">\n",
              "  <thead>\n",
              "    <tr style=\"text-align: right;\">\n",
              "      <th></th>\n",
              "      <th>bill_length_mm</th>\n",
              "      <th>bill_depth_mm</th>\n",
              "    </tr>\n",
              "  </thead>\n",
              "  <tbody>\n",
              "    <tr>\n",
              "      <th>mean</th>\n",
              "      <td>42.09697</td>\n",
              "      <td>16.425455</td>\n",
              "    </tr>\n",
              "  </tbody>\n",
              "</table>\n",
              "</div>"
            ],
            "text/plain": [
              "      bill_length_mm  bill_depth_mm\n",
              "mean        42.09697      16.425455"
            ]
          },
          "execution_count": 113,
          "metadata": {},
          "output_type": "execute_result"
        }
      ],
      "source": [
        "#Calculamos la longitud media del pico en mujeres\n",
        "female_regs[female_regs.columns[2:4]].describe().iloc[1:2]"
      ]
    },
    {
      "cell_type": "markdown",
      "metadata": {
        "id": "wdvMbBQsEGD5"
      },
      "source": [
        "Como vemos la longitud media del pico es de 45 mm en hombres y 42 mm en mujeres. Por tanto los hombres suelen tener un pico mas largo que ellas."
      ]
    },
    {
      "cell_type": "markdown",
      "metadata": {
        "id": "Um575XxyE2J4"
      },
      "source": [
        "4. Vamos a añadir una columna, vamos a realizar una estimación (muy grosera) del área del pico de los pingüinos (bill) tal como si esta fuese un rectángulo. Esta nueva columnas se llama bill_area y debe encontrarse en la última posición. Verifica que es correcto."
      ]
    },
    {
      "cell_type": "markdown",
      "metadata": {},
      "source": [
        "Para ello utilizaremos la función assign con la que crearemos la nueva columna que será el resultado del producto del bill_length_mm con bill_depth_mm."
      ]
    },
    {
      "cell_type": "code",
      "execution_count": 114,
      "metadata": {
        "colab": {
          "base_uri": "https://localhost:8080/",
          "height": 424
        },
        "id": "j33CGOnoI4n3",
        "outputId": "1575cca6-a6d6-4bf5-e4d5-99efca374fb2"
      },
      "outputs": [
        {
          "data": {
            "text/html": [
              "<div>\n",
              "<style scoped>\n",
              "    .dataframe tbody tr th:only-of-type {\n",
              "        vertical-align: middle;\n",
              "    }\n",
              "\n",
              "    .dataframe tbody tr th {\n",
              "        vertical-align: top;\n",
              "    }\n",
              "\n",
              "    .dataframe thead th {\n",
              "        text-align: right;\n",
              "    }\n",
              "</style>\n",
              "<table border=\"1\" class=\"dataframe\">\n",
              "  <thead>\n",
              "    <tr style=\"text-align: right;\">\n",
              "      <th></th>\n",
              "      <th>species</th>\n",
              "      <th>island</th>\n",
              "      <th>bill_length_mm</th>\n",
              "      <th>bill_depth_mm</th>\n",
              "      <th>flipper_length_mm</th>\n",
              "      <th>body_mass_g</th>\n",
              "      <th>sex</th>\n",
              "      <th>year</th>\n",
              "      <th>bill_area</th>\n",
              "    </tr>\n",
              "  </thead>\n",
              "  <tbody>\n",
              "    <tr>\n",
              "      <th>0</th>\n",
              "      <td>Adelie</td>\n",
              "      <td>Torgersen</td>\n",
              "      <td>39.1</td>\n",
              "      <td>18.7</td>\n",
              "      <td>181.0</td>\n",
              "      <td>3750.0</td>\n",
              "      <td>male</td>\n",
              "      <td>2007</td>\n",
              "      <td>731.17</td>\n",
              "    </tr>\n",
              "    <tr>\n",
              "      <th>1</th>\n",
              "      <td>Adelie</td>\n",
              "      <td>Torgersen</td>\n",
              "      <td>39.5</td>\n",
              "      <td>17.4</td>\n",
              "      <td>186.0</td>\n",
              "      <td>3800.0</td>\n",
              "      <td>female</td>\n",
              "      <td>2007</td>\n",
              "      <td>687.30</td>\n",
              "    </tr>\n",
              "    <tr>\n",
              "      <th>2</th>\n",
              "      <td>Adelie</td>\n",
              "      <td>Torgersen</td>\n",
              "      <td>40.3</td>\n",
              "      <td>18.0</td>\n",
              "      <td>195.0</td>\n",
              "      <td>3250.0</td>\n",
              "      <td>female</td>\n",
              "      <td>2007</td>\n",
              "      <td>725.40</td>\n",
              "    </tr>\n",
              "    <tr>\n",
              "      <th>4</th>\n",
              "      <td>Adelie</td>\n",
              "      <td>Torgersen</td>\n",
              "      <td>36.7</td>\n",
              "      <td>19.3</td>\n",
              "      <td>193.0</td>\n",
              "      <td>3450.0</td>\n",
              "      <td>female</td>\n",
              "      <td>2007</td>\n",
              "      <td>708.31</td>\n",
              "    </tr>\n",
              "    <tr>\n",
              "      <th>5</th>\n",
              "      <td>Adelie</td>\n",
              "      <td>Torgersen</td>\n",
              "      <td>39.3</td>\n",
              "      <td>20.6</td>\n",
              "      <td>190.0</td>\n",
              "      <td>3650.0</td>\n",
              "      <td>male</td>\n",
              "      <td>2007</td>\n",
              "      <td>809.58</td>\n",
              "    </tr>\n",
              "    <tr>\n",
              "      <th>...</th>\n",
              "      <td>...</td>\n",
              "      <td>...</td>\n",
              "      <td>...</td>\n",
              "      <td>...</td>\n",
              "      <td>...</td>\n",
              "      <td>...</td>\n",
              "      <td>...</td>\n",
              "      <td>...</td>\n",
              "      <td>...</td>\n",
              "    </tr>\n",
              "    <tr>\n",
              "      <th>339</th>\n",
              "      <td>Chinstrap</td>\n",
              "      <td>Dream</td>\n",
              "      <td>55.8</td>\n",
              "      <td>19.8</td>\n",
              "      <td>207.0</td>\n",
              "      <td>4000.0</td>\n",
              "      <td>male</td>\n",
              "      <td>2009</td>\n",
              "      <td>1104.84</td>\n",
              "    </tr>\n",
              "    <tr>\n",
              "      <th>340</th>\n",
              "      <td>Chinstrap</td>\n",
              "      <td>Dream</td>\n",
              "      <td>43.5</td>\n",
              "      <td>18.1</td>\n",
              "      <td>202.0</td>\n",
              "      <td>3400.0</td>\n",
              "      <td>female</td>\n",
              "      <td>2009</td>\n",
              "      <td>787.35</td>\n",
              "    </tr>\n",
              "    <tr>\n",
              "      <th>341</th>\n",
              "      <td>Chinstrap</td>\n",
              "      <td>Dream</td>\n",
              "      <td>49.6</td>\n",
              "      <td>18.2</td>\n",
              "      <td>193.0</td>\n",
              "      <td>3775.0</td>\n",
              "      <td>male</td>\n",
              "      <td>2009</td>\n",
              "      <td>902.72</td>\n",
              "    </tr>\n",
              "    <tr>\n",
              "      <th>342</th>\n",
              "      <td>Chinstrap</td>\n",
              "      <td>Dream</td>\n",
              "      <td>50.8</td>\n",
              "      <td>19.0</td>\n",
              "      <td>210.0</td>\n",
              "      <td>4100.0</td>\n",
              "      <td>male</td>\n",
              "      <td>2009</td>\n",
              "      <td>965.20</td>\n",
              "    </tr>\n",
              "    <tr>\n",
              "      <th>343</th>\n",
              "      <td>Chinstrap</td>\n",
              "      <td>Dream</td>\n",
              "      <td>50.2</td>\n",
              "      <td>18.7</td>\n",
              "      <td>198.0</td>\n",
              "      <td>3775.0</td>\n",
              "      <td>female</td>\n",
              "      <td>2009</td>\n",
              "      <td>938.74</td>\n",
              "    </tr>\n",
              "  </tbody>\n",
              "</table>\n",
              "<p>333 rows × 9 columns</p>\n",
              "</div>"
            ],
            "text/plain": [
              "       species     island  bill_length_mm  bill_depth_mm  flipper_length_mm  \\\n",
              "0       Adelie  Torgersen            39.1           18.7              181.0   \n",
              "1       Adelie  Torgersen            39.5           17.4              186.0   \n",
              "2       Adelie  Torgersen            40.3           18.0              195.0   \n",
              "4       Adelie  Torgersen            36.7           19.3              193.0   \n",
              "5       Adelie  Torgersen            39.3           20.6              190.0   \n",
              "..         ...        ...             ...            ...                ...   \n",
              "339  Chinstrap      Dream            55.8           19.8              207.0   \n",
              "340  Chinstrap      Dream            43.5           18.1              202.0   \n",
              "341  Chinstrap      Dream            49.6           18.2              193.0   \n",
              "342  Chinstrap      Dream            50.8           19.0              210.0   \n",
              "343  Chinstrap      Dream            50.2           18.7              198.0   \n",
              "\n",
              "     body_mass_g     sex  year  bill_area  \n",
              "0         3750.0    male  2007     731.17  \n",
              "1         3800.0  female  2007     687.30  \n",
              "2         3250.0  female  2007     725.40  \n",
              "4         3450.0  female  2007     708.31  \n",
              "5         3650.0    male  2007     809.58  \n",
              "..           ...     ...   ...        ...  \n",
              "339       4000.0    male  2009    1104.84  \n",
              "340       3400.0  female  2009     787.35  \n",
              "341       3775.0    male  2009     902.72  \n",
              "342       4100.0    male  2009     965.20  \n",
              "343       3775.0  female  2009     938.74  \n",
              "\n",
              "[333 rows x 9 columns]"
            ]
          },
          "execution_count": 114,
          "metadata": {},
          "output_type": "execute_result"
        }
      ],
      "source": [
        "penguins_b_area = penguins_without_na.assign(bill_area=penguins_without_na.bill_length_mm * penguins_without_na.bill_depth_mm)\n",
        "penguins_b_area"
      ]
    },
    {
      "cell_type": "markdown",
      "metadata": {},
      "source": [
        "Para hacer la verificación vamos a hacer el cálculo del área del primer registro [0] manualmente."
      ]
    },
    {
      "cell_type": "code",
      "execution_count": 115,
      "metadata": {},
      "outputs": [
        {
          "data": {
            "text/plain": [
              "731.17"
            ]
          },
          "execution_count": 115,
          "metadata": {},
          "output_type": "execute_result"
        }
      ],
      "source": [
        "penguins_b_area.loc[0].bill_area"
      ]
    },
    {
      "cell_type": "code",
      "execution_count": 116,
      "metadata": {},
      "outputs": [
        {
          "data": {
            "text/plain": [
              "731.17"
            ]
          },
          "execution_count": 116,
          "metadata": {},
          "output_type": "execute_result"
        }
      ],
      "source": [
        "bill_length_depth_mm = penguins_without_na[penguins_without_na.columns[2:4]]\n",
        "bill_length_depth_mm.loc[0].bill_length_mm * bill_length_depth_mm.loc[0].bill_depth_mm"
      ]
    },
    {
      "cell_type": "markdown",
      "metadata": {
        "id": "VwuhVzIfKZ9m"
      },
      "source": [
        "5. Hagamos algo un poco más elaborado, vamos a realizar una agrupación en función del sexo y de la especie de cada observación. Queremos obtener solamente la información referente al sexo Femenino."
      ]
    },
    {
      "cell_type": "markdown",
      "metadata": {},
      "source": [
        "Pongamos que queremos obtener información sobre el 'bill_length_mm', 'bill_depth_mm', 'flipper_length_mm' y 'body_mass_g'. Para ello vamos a obtener un array con dichos nombres."
      ]
    },
    {
      "cell_type": "code",
      "execution_count": 117,
      "metadata": {},
      "outputs": [
        {
          "name": "stdout",
          "output_type": "stream",
          "text": [
            "Index(['bill_length_mm', 'bill_depth_mm', 'flipper_length_mm', 'body_mass_g'], dtype='object')\n"
          ]
        }
      ],
      "source": [
        "interest_columns = penguins_without_na.columns[2:6]\n",
        "print(interest_columns)"
      ]
    },
    {
      "cell_type": "markdown",
      "metadata": {},
      "source": [
        "Ahora que tenemos los datos de los quales vamos a extraer la información he pensado dos formas de hacerlo. La primera de ellas es la que me ha gustado más.\n",
        "\n",
        "Esta trata de realizar las agrupaciones por partes. Primero de todo, agrupamos el dataset por 'sex'. Una vez tenemos el dataset agrupado obtenemos otro dataset filtrando por 'female'. Es decir, solo con registros del individuo femenino.\n",
        "\n",
        "Una vez tenemos este dataset lo que hacemos es agrupar por especie y ya podemos obtener la información que necesitemos sobre los datos."
      ]
    },
    {
      "cell_type": "code",
      "execution_count": 118,
      "metadata": {
        "id": "05YSp5TDKb2X"
      },
      "outputs": [],
      "source": [
        "penguins_grouped_by_sex = penguins_without_na.groupby([\"sex\"])\n",
        "female_penguins = penguins_without_na.loc[penguins_grouped_by_sex.groups['female']]"
      ]
    },
    {
      "cell_type": "code",
      "execution_count": 119,
      "metadata": {
        "colab": {
          "base_uri": "https://localhost:8080/",
          "height": 236
        },
        "id": "HhbGxQwybDYG",
        "outputId": "05de1518-b2a7-4e3d-ee63-7fd29a7029e7"
      },
      "outputs": [
        {
          "data": {
            "text/html": [
              "<div>\n",
              "<style scoped>\n",
              "    .dataframe tbody tr th:only-of-type {\n",
              "        vertical-align: middle;\n",
              "    }\n",
              "\n",
              "    .dataframe tbody tr th {\n",
              "        vertical-align: top;\n",
              "    }\n",
              "\n",
              "    .dataframe thead tr th {\n",
              "        text-align: left;\n",
              "    }\n",
              "\n",
              "    .dataframe thead tr:last-of-type th {\n",
              "        text-align: right;\n",
              "    }\n",
              "</style>\n",
              "<table border=\"1\" class=\"dataframe\">\n",
              "  <thead>\n",
              "    <tr>\n",
              "      <th></th>\n",
              "      <th colspan=\"8\" halign=\"left\">bill_length_mm</th>\n",
              "      <th colspan=\"2\" halign=\"left\">bill_depth_mm</th>\n",
              "      <th>...</th>\n",
              "      <th colspan=\"2\" halign=\"left\">body_mass_g</th>\n",
              "      <th colspan=\"8\" halign=\"left\">year</th>\n",
              "    </tr>\n",
              "    <tr>\n",
              "      <th></th>\n",
              "      <th>count</th>\n",
              "      <th>mean</th>\n",
              "      <th>std</th>\n",
              "      <th>min</th>\n",
              "      <th>25%</th>\n",
              "      <th>50%</th>\n",
              "      <th>75%</th>\n",
              "      <th>max</th>\n",
              "      <th>count</th>\n",
              "      <th>mean</th>\n",
              "      <th>...</th>\n",
              "      <th>75%</th>\n",
              "      <th>max</th>\n",
              "      <th>count</th>\n",
              "      <th>mean</th>\n",
              "      <th>std</th>\n",
              "      <th>min</th>\n",
              "      <th>25%</th>\n",
              "      <th>50%</th>\n",
              "      <th>75%</th>\n",
              "      <th>max</th>\n",
              "    </tr>\n",
              "    <tr>\n",
              "      <th>species</th>\n",
              "      <th></th>\n",
              "      <th></th>\n",
              "      <th></th>\n",
              "      <th></th>\n",
              "      <th></th>\n",
              "      <th></th>\n",
              "      <th></th>\n",
              "      <th></th>\n",
              "      <th></th>\n",
              "      <th></th>\n",
              "      <th></th>\n",
              "      <th></th>\n",
              "      <th></th>\n",
              "      <th></th>\n",
              "      <th></th>\n",
              "      <th></th>\n",
              "      <th></th>\n",
              "      <th></th>\n",
              "      <th></th>\n",
              "      <th></th>\n",
              "      <th></th>\n",
              "    </tr>\n",
              "  </thead>\n",
              "  <tbody>\n",
              "    <tr>\n",
              "      <th>Adelie</th>\n",
              "      <td>73.0</td>\n",
              "      <td>37.257534</td>\n",
              "      <td>2.028883</td>\n",
              "      <td>32.1</td>\n",
              "      <td>35.900</td>\n",
              "      <td>37.0</td>\n",
              "      <td>38.800</td>\n",
              "      <td>42.2</td>\n",
              "      <td>73.0</td>\n",
              "      <td>17.621918</td>\n",
              "      <td>...</td>\n",
              "      <td>3550.00</td>\n",
              "      <td>3900.0</td>\n",
              "      <td>73.0</td>\n",
              "      <td>2008.054795</td>\n",
              "      <td>0.814630</td>\n",
              "      <td>2007.0</td>\n",
              "      <td>2007.0</td>\n",
              "      <td>2008.0</td>\n",
              "      <td>2009.0</td>\n",
              "      <td>2009.0</td>\n",
              "    </tr>\n",
              "    <tr>\n",
              "      <th>Chinstrap</th>\n",
              "      <td>34.0</td>\n",
              "      <td>46.573529</td>\n",
              "      <td>3.108669</td>\n",
              "      <td>40.9</td>\n",
              "      <td>45.425</td>\n",
              "      <td>46.3</td>\n",
              "      <td>47.375</td>\n",
              "      <td>58.0</td>\n",
              "      <td>34.0</td>\n",
              "      <td>17.588235</td>\n",
              "      <td>...</td>\n",
              "      <td>3693.75</td>\n",
              "      <td>4150.0</td>\n",
              "      <td>34.0</td>\n",
              "      <td>2007.970588</td>\n",
              "      <td>0.869876</td>\n",
              "      <td>2007.0</td>\n",
              "      <td>2007.0</td>\n",
              "      <td>2008.0</td>\n",
              "      <td>2009.0</td>\n",
              "      <td>2009.0</td>\n",
              "    </tr>\n",
              "    <tr>\n",
              "      <th>Gentoo</th>\n",
              "      <td>58.0</td>\n",
              "      <td>45.563793</td>\n",
              "      <td>2.051247</td>\n",
              "      <td>40.9</td>\n",
              "      <td>43.850</td>\n",
              "      <td>45.5</td>\n",
              "      <td>46.875</td>\n",
              "      <td>50.5</td>\n",
              "      <td>58.0</td>\n",
              "      <td>14.237931</td>\n",
              "      <td>...</td>\n",
              "      <td>4875.00</td>\n",
              "      <td>5200.0</td>\n",
              "      <td>58.0</td>\n",
              "      <td>2008.068966</td>\n",
              "      <td>0.791669</td>\n",
              "      <td>2007.0</td>\n",
              "      <td>2007.0</td>\n",
              "      <td>2008.0</td>\n",
              "      <td>2009.0</td>\n",
              "      <td>2009.0</td>\n",
              "    </tr>\n",
              "  </tbody>\n",
              "</table>\n",
              "<p>3 rows × 40 columns</p>\n",
              "</div>"
            ],
            "text/plain": [
              "          bill_length_mm                                                   \\\n",
              "                   count       mean       std   min     25%   50%     75%   \n",
              "species                                                                     \n",
              "Adelie              73.0  37.257534  2.028883  32.1  35.900  37.0  38.800   \n",
              "Chinstrap           34.0  46.573529  3.108669  40.9  45.425  46.3  47.375   \n",
              "Gentoo              58.0  45.563793  2.051247  40.9  43.850  45.5  46.875   \n",
              "\n",
              "                bill_depth_mm             ... body_mass_g          year  \\\n",
              "            max         count       mean  ...         75%     max count   \n",
              "species                                   ...                             \n",
              "Adelie     42.2          73.0  17.621918  ...     3550.00  3900.0  73.0   \n",
              "Chinstrap  58.0          34.0  17.588235  ...     3693.75  4150.0  34.0   \n",
              "Gentoo     50.5          58.0  14.237931  ...     4875.00  5200.0  58.0   \n",
              "\n",
              "                                                                          \n",
              "                  mean       std     min     25%     50%     75%     max  \n",
              "species                                                                   \n",
              "Adelie     2008.054795  0.814630  2007.0  2007.0  2008.0  2009.0  2009.0  \n",
              "Chinstrap  2007.970588  0.869876  2007.0  2007.0  2008.0  2009.0  2009.0  \n",
              "Gentoo     2008.068966  0.791669  2007.0  2007.0  2008.0  2009.0  2009.0  \n",
              "\n",
              "[3 rows x 40 columns]"
            ]
          },
          "execution_count": 119,
          "metadata": {},
          "output_type": "execute_result"
        }
      ],
      "source": [
        "female_penguins_species_grouped = female_penguins.groupby([\"species\"])\n",
        "female_penguins_species_grouped.describe()"
      ]
    },
    {
      "cell_type": "code",
      "execution_count": 120,
      "metadata": {},
      "outputs": [
        {
          "data": {
            "text/html": [
              "<div>\n",
              "<style scoped>\n",
              "    .dataframe tbody tr th:only-of-type {\n",
              "        vertical-align: middle;\n",
              "    }\n",
              "\n",
              "    .dataframe tbody tr th {\n",
              "        vertical-align: top;\n",
              "    }\n",
              "\n",
              "    .dataframe thead th {\n",
              "        text-align: right;\n",
              "    }\n",
              "</style>\n",
              "<table border=\"1\" class=\"dataframe\">\n",
              "  <thead>\n",
              "    <tr style=\"text-align: right;\">\n",
              "      <th></th>\n",
              "      <th>bill_length_mm</th>\n",
              "      <th>bill_depth_mm</th>\n",
              "      <th>flipper_length_mm</th>\n",
              "      <th>body_mass_g</th>\n",
              "    </tr>\n",
              "    <tr>\n",
              "      <th>species</th>\n",
              "      <th></th>\n",
              "      <th></th>\n",
              "      <th></th>\n",
              "      <th></th>\n",
              "    </tr>\n",
              "  </thead>\n",
              "  <tbody>\n",
              "    <tr>\n",
              "      <th>Adelie</th>\n",
              "      <td>37.257534</td>\n",
              "      <td>17.621918</td>\n",
              "      <td>187.794521</td>\n",
              "      <td>3368.835616</td>\n",
              "    </tr>\n",
              "    <tr>\n",
              "      <th>Chinstrap</th>\n",
              "      <td>46.573529</td>\n",
              "      <td>17.588235</td>\n",
              "      <td>191.735294</td>\n",
              "      <td>3527.205882</td>\n",
              "    </tr>\n",
              "    <tr>\n",
              "      <th>Gentoo</th>\n",
              "      <td>45.563793</td>\n",
              "      <td>14.237931</td>\n",
              "      <td>212.706897</td>\n",
              "      <td>4679.741379</td>\n",
              "    </tr>\n",
              "  </tbody>\n",
              "</table>\n",
              "</div>"
            ],
            "text/plain": [
              "           bill_length_mm  bill_depth_mm  flipper_length_mm  body_mass_g\n",
              "species                                                                 \n",
              "Adelie          37.257534      17.621918         187.794521  3368.835616\n",
              "Chinstrap       46.573529      17.588235         191.735294  3527.205882\n",
              "Gentoo          45.563793      14.237931         212.706897  4679.741379"
            ]
          },
          "execution_count": 120,
          "metadata": {},
          "output_type": "execute_result"
        }
      ],
      "source": [
        "female_penguins_species_grouped[interest_columns].mean()"
      ]
    },
    {
      "cell_type": "markdown",
      "metadata": {},
      "source": [
        "Vamos a la segunda opción. Se trata de hacer la agrupación conjunta, es decir, a la vez. Para ello necesitamos indicarle un parámetro nuevo que es **as_index** con el qual vamos a tratar la agrupación como si fuese una tabla nueva y cada uno de los miembros agrupados será tractado como una columna. Así será más facil realizar el filtrado.\n",
        "\n",
        "Una vez se ha hecho la agrupación obtenemos un nuevo dataset que será el resultado de la operación que queremos realizar sobre los datos. En nuestro caso vamos a obtener la mediana aritmética de los atributos interesantes que hemos cogido al principio. "
      ]
    },
    {
      "cell_type": "code",
      "execution_count": 121,
      "metadata": {
        "colab": {
          "base_uri": "https://localhost:8080/",
          "height": 330
        },
        "id": "oPIlgNloeqof",
        "outputId": "46895fdd-c820-43d0-d829-50e73691bd56"
      },
      "outputs": [
        {
          "data": {
            "text/html": [
              "<div>\n",
              "<style scoped>\n",
              "    .dataframe tbody tr th:only-of-type {\n",
              "        vertical-align: middle;\n",
              "    }\n",
              "\n",
              "    .dataframe tbody tr th {\n",
              "        vertical-align: top;\n",
              "    }\n",
              "\n",
              "    .dataframe thead th {\n",
              "        text-align: right;\n",
              "    }\n",
              "</style>\n",
              "<table border=\"1\" class=\"dataframe\">\n",
              "  <thead>\n",
              "    <tr style=\"text-align: right;\">\n",
              "      <th></th>\n",
              "      <th>sex</th>\n",
              "      <th>species</th>\n",
              "      <th>bill_length_mm</th>\n",
              "      <th>bill_depth_mm</th>\n",
              "      <th>flipper_length_mm</th>\n",
              "      <th>body_mass_g</th>\n",
              "    </tr>\n",
              "  </thead>\n",
              "  <tbody>\n",
              "    <tr>\n",
              "      <th>0</th>\n",
              "      <td>female</td>\n",
              "      <td>Adelie</td>\n",
              "      <td>37.257534</td>\n",
              "      <td>17.621918</td>\n",
              "      <td>187.794521</td>\n",
              "      <td>3368.835616</td>\n",
              "    </tr>\n",
              "    <tr>\n",
              "      <th>1</th>\n",
              "      <td>female</td>\n",
              "      <td>Chinstrap</td>\n",
              "      <td>46.573529</td>\n",
              "      <td>17.588235</td>\n",
              "      <td>191.735294</td>\n",
              "      <td>3527.205882</td>\n",
              "    </tr>\n",
              "    <tr>\n",
              "      <th>2</th>\n",
              "      <td>female</td>\n",
              "      <td>Gentoo</td>\n",
              "      <td>45.563793</td>\n",
              "      <td>14.237931</td>\n",
              "      <td>212.706897</td>\n",
              "      <td>4679.741379</td>\n",
              "    </tr>\n",
              "    <tr>\n",
              "      <th>3</th>\n",
              "      <td>male</td>\n",
              "      <td>Adelie</td>\n",
              "      <td>40.390411</td>\n",
              "      <td>19.072603</td>\n",
              "      <td>192.410959</td>\n",
              "      <td>4043.493151</td>\n",
              "    </tr>\n",
              "    <tr>\n",
              "      <th>4</th>\n",
              "      <td>male</td>\n",
              "      <td>Chinstrap</td>\n",
              "      <td>51.094118</td>\n",
              "      <td>19.252941</td>\n",
              "      <td>199.911765</td>\n",
              "      <td>3938.970588</td>\n",
              "    </tr>\n",
              "    <tr>\n",
              "      <th>5</th>\n",
              "      <td>male</td>\n",
              "      <td>Gentoo</td>\n",
              "      <td>49.473770</td>\n",
              "      <td>15.718033</td>\n",
              "      <td>221.540984</td>\n",
              "      <td>5484.836066</td>\n",
              "    </tr>\n",
              "  </tbody>\n",
              "</table>\n",
              "</div>"
            ],
            "text/plain": [
              "      sex    species  bill_length_mm  bill_depth_mm  flipper_length_mm  \\\n",
              "0  female     Adelie       37.257534      17.621918         187.794521   \n",
              "1  female  Chinstrap       46.573529      17.588235         191.735294   \n",
              "2  female     Gentoo       45.563793      14.237931         212.706897   \n",
              "3    male     Adelie       40.390411      19.072603         192.410959   \n",
              "4    male  Chinstrap       51.094118      19.252941         199.911765   \n",
              "5    male     Gentoo       49.473770      15.718033         221.540984   \n",
              "\n",
              "   body_mass_g  \n",
              "0  3368.835616  \n",
              "1  3527.205882  \n",
              "2  4679.741379  \n",
              "3  4043.493151  \n",
              "4  3938.970588  \n",
              "5  5484.836066  "
            ]
          },
          "execution_count": 121,
          "metadata": {},
          "output_type": "execute_result"
        }
      ],
      "source": [
        "penguins_grouped_by_sex_species = penguins_without_na.groupby([\"sex\", \"species\"], as_index=False)\n",
        "mean_interested_columns_by_sex_species = penguins_grouped_by_sex_species[interest_columns].mean()\n",
        "mean_interested_columns_by_sex_species"
      ]
    },
    {
      "cell_type": "markdown",
      "metadata": {},
      "source": [
        "Como podemos observar hemos obtenido los datos correctamente pero aún tenemos los individuos masculinos.\n",
        "\n",
        "Es, por tanto, en este punto que debemos realizar el filtrado."
      ]
    },
    {
      "cell_type": "code",
      "execution_count": 122,
      "metadata": {},
      "outputs": [
        {
          "data": {
            "text/html": [
              "<div>\n",
              "<style scoped>\n",
              "    .dataframe tbody tr th:only-of-type {\n",
              "        vertical-align: middle;\n",
              "    }\n",
              "\n",
              "    .dataframe tbody tr th {\n",
              "        vertical-align: top;\n",
              "    }\n",
              "\n",
              "    .dataframe thead th {\n",
              "        text-align: right;\n",
              "    }\n",
              "</style>\n",
              "<table border=\"1\" class=\"dataframe\">\n",
              "  <thead>\n",
              "    <tr style=\"text-align: right;\">\n",
              "      <th></th>\n",
              "      <th>sex</th>\n",
              "      <th>species</th>\n",
              "      <th>bill_length_mm</th>\n",
              "      <th>bill_depth_mm</th>\n",
              "      <th>flipper_length_mm</th>\n",
              "      <th>body_mass_g</th>\n",
              "    </tr>\n",
              "  </thead>\n",
              "  <tbody>\n",
              "    <tr>\n",
              "      <th>0</th>\n",
              "      <td>female</td>\n",
              "      <td>Adelie</td>\n",
              "      <td>37.257534</td>\n",
              "      <td>17.621918</td>\n",
              "      <td>187.794521</td>\n",
              "      <td>3368.835616</td>\n",
              "    </tr>\n",
              "    <tr>\n",
              "      <th>1</th>\n",
              "      <td>female</td>\n",
              "      <td>Chinstrap</td>\n",
              "      <td>46.573529</td>\n",
              "      <td>17.588235</td>\n",
              "      <td>191.735294</td>\n",
              "      <td>3527.205882</td>\n",
              "    </tr>\n",
              "    <tr>\n",
              "      <th>2</th>\n",
              "      <td>female</td>\n",
              "      <td>Gentoo</td>\n",
              "      <td>45.563793</td>\n",
              "      <td>14.237931</td>\n",
              "      <td>212.706897</td>\n",
              "      <td>4679.741379</td>\n",
              "    </tr>\n",
              "  </tbody>\n",
              "</table>\n",
              "</div>"
            ],
            "text/plain": [
              "      sex    species  bill_length_mm  bill_depth_mm  flipper_length_mm  \\\n",
              "0  female     Adelie       37.257534      17.621918         187.794521   \n",
              "1  female  Chinstrap       46.573529      17.588235         191.735294   \n",
              "2  female     Gentoo       45.563793      14.237931         212.706897   \n",
              "\n",
              "   body_mass_g  \n",
              "0  3368.835616  \n",
              "1  3527.205882  \n",
              "2  4679.741379  "
            ]
          },
          "execution_count": 122,
          "metadata": {},
          "output_type": "execute_result"
        }
      ],
      "source": [
        "sex_attr = mean_interested_columns_by_sex_species['sex']\n",
        "mean_interested_columns_by_sex_species.loc[sex_attr == 'female']"
      ]
    },
    {
      "cell_type": "markdown",
      "metadata": {},
      "source": [
        "De esta manera, si comparamos los dos realutados veremos que son idénticos. Por tanto, se han visto dos formas de hacer lo mismo."
      ]
    },
    {
      "cell_type": "markdown",
      "metadata": {
        "id": "UzMv1OThdajH"
      },
      "source": [
        "6. Como ya sabemos, la variable peso, se encuentra en gramos, la pasaremos a kg. Para ello crearemos una nueva columna llamada body_mass_kg y eliminaremos body_mass_g."
      ]
    },
    {
      "cell_type": "markdown",
      "metadata": {},
      "source": [
        "Para ello vamos a usar la función asign para crear la nueva columna llamada body_mass_g y drop para eliminar la columna antigua."
      ]
    },
    {
      "cell_type": "code",
      "execution_count": 123,
      "metadata": {
        "colab": {
          "base_uri": "https://localhost:8080/",
          "height": 424
        },
        "id": "bMVEO1icdixB",
        "outputId": "038cabbf-d084-4c0f-aeb5-8e50365caa95"
      },
      "outputs": [
        {
          "data": {
            "text/html": [
              "<div>\n",
              "<style scoped>\n",
              "    .dataframe tbody tr th:only-of-type {\n",
              "        vertical-align: middle;\n",
              "    }\n",
              "\n",
              "    .dataframe tbody tr th {\n",
              "        vertical-align: top;\n",
              "    }\n",
              "\n",
              "    .dataframe thead th {\n",
              "        text-align: right;\n",
              "    }\n",
              "</style>\n",
              "<table border=\"1\" class=\"dataframe\">\n",
              "  <thead>\n",
              "    <tr style=\"text-align: right;\">\n",
              "      <th></th>\n",
              "      <th>species</th>\n",
              "      <th>island</th>\n",
              "      <th>bill_length_mm</th>\n",
              "      <th>bill_depth_mm</th>\n",
              "      <th>flipper_length_mm</th>\n",
              "      <th>sex</th>\n",
              "      <th>year</th>\n",
              "      <th>body_mass_kg</th>\n",
              "    </tr>\n",
              "  </thead>\n",
              "  <tbody>\n",
              "    <tr>\n",
              "      <th>0</th>\n",
              "      <td>Adelie</td>\n",
              "      <td>Torgersen</td>\n",
              "      <td>39.1</td>\n",
              "      <td>18.7</td>\n",
              "      <td>181.0</td>\n",
              "      <td>male</td>\n",
              "      <td>2007</td>\n",
              "      <td>3.750</td>\n",
              "    </tr>\n",
              "    <tr>\n",
              "      <th>1</th>\n",
              "      <td>Adelie</td>\n",
              "      <td>Torgersen</td>\n",
              "      <td>39.5</td>\n",
              "      <td>17.4</td>\n",
              "      <td>186.0</td>\n",
              "      <td>female</td>\n",
              "      <td>2007</td>\n",
              "      <td>3.800</td>\n",
              "    </tr>\n",
              "    <tr>\n",
              "      <th>2</th>\n",
              "      <td>Adelie</td>\n",
              "      <td>Torgersen</td>\n",
              "      <td>40.3</td>\n",
              "      <td>18.0</td>\n",
              "      <td>195.0</td>\n",
              "      <td>female</td>\n",
              "      <td>2007</td>\n",
              "      <td>3.250</td>\n",
              "    </tr>\n",
              "    <tr>\n",
              "      <th>4</th>\n",
              "      <td>Adelie</td>\n",
              "      <td>Torgersen</td>\n",
              "      <td>36.7</td>\n",
              "      <td>19.3</td>\n",
              "      <td>193.0</td>\n",
              "      <td>female</td>\n",
              "      <td>2007</td>\n",
              "      <td>3.450</td>\n",
              "    </tr>\n",
              "    <tr>\n",
              "      <th>5</th>\n",
              "      <td>Adelie</td>\n",
              "      <td>Torgersen</td>\n",
              "      <td>39.3</td>\n",
              "      <td>20.6</td>\n",
              "      <td>190.0</td>\n",
              "      <td>male</td>\n",
              "      <td>2007</td>\n",
              "      <td>3.650</td>\n",
              "    </tr>\n",
              "    <tr>\n",
              "      <th>...</th>\n",
              "      <td>...</td>\n",
              "      <td>...</td>\n",
              "      <td>...</td>\n",
              "      <td>...</td>\n",
              "      <td>...</td>\n",
              "      <td>...</td>\n",
              "      <td>...</td>\n",
              "      <td>...</td>\n",
              "    </tr>\n",
              "    <tr>\n",
              "      <th>339</th>\n",
              "      <td>Chinstrap</td>\n",
              "      <td>Dream</td>\n",
              "      <td>55.8</td>\n",
              "      <td>19.8</td>\n",
              "      <td>207.0</td>\n",
              "      <td>male</td>\n",
              "      <td>2009</td>\n",
              "      <td>4.000</td>\n",
              "    </tr>\n",
              "    <tr>\n",
              "      <th>340</th>\n",
              "      <td>Chinstrap</td>\n",
              "      <td>Dream</td>\n",
              "      <td>43.5</td>\n",
              "      <td>18.1</td>\n",
              "      <td>202.0</td>\n",
              "      <td>female</td>\n",
              "      <td>2009</td>\n",
              "      <td>3.400</td>\n",
              "    </tr>\n",
              "    <tr>\n",
              "      <th>341</th>\n",
              "      <td>Chinstrap</td>\n",
              "      <td>Dream</td>\n",
              "      <td>49.6</td>\n",
              "      <td>18.2</td>\n",
              "      <td>193.0</td>\n",
              "      <td>male</td>\n",
              "      <td>2009</td>\n",
              "      <td>3.775</td>\n",
              "    </tr>\n",
              "    <tr>\n",
              "      <th>342</th>\n",
              "      <td>Chinstrap</td>\n",
              "      <td>Dream</td>\n",
              "      <td>50.8</td>\n",
              "      <td>19.0</td>\n",
              "      <td>210.0</td>\n",
              "      <td>male</td>\n",
              "      <td>2009</td>\n",
              "      <td>4.100</td>\n",
              "    </tr>\n",
              "    <tr>\n",
              "      <th>343</th>\n",
              "      <td>Chinstrap</td>\n",
              "      <td>Dream</td>\n",
              "      <td>50.2</td>\n",
              "      <td>18.7</td>\n",
              "      <td>198.0</td>\n",
              "      <td>female</td>\n",
              "      <td>2009</td>\n",
              "      <td>3.775</td>\n",
              "    </tr>\n",
              "  </tbody>\n",
              "</table>\n",
              "<p>333 rows × 8 columns</p>\n",
              "</div>"
            ],
            "text/plain": [
              "       species     island  bill_length_mm  bill_depth_mm  flipper_length_mm  \\\n",
              "0       Adelie  Torgersen            39.1           18.7              181.0   \n",
              "1       Adelie  Torgersen            39.5           17.4              186.0   \n",
              "2       Adelie  Torgersen            40.3           18.0              195.0   \n",
              "4       Adelie  Torgersen            36.7           19.3              193.0   \n",
              "5       Adelie  Torgersen            39.3           20.6              190.0   \n",
              "..         ...        ...             ...            ...                ...   \n",
              "339  Chinstrap      Dream            55.8           19.8              207.0   \n",
              "340  Chinstrap      Dream            43.5           18.1              202.0   \n",
              "341  Chinstrap      Dream            49.6           18.2              193.0   \n",
              "342  Chinstrap      Dream            50.8           19.0              210.0   \n",
              "343  Chinstrap      Dream            50.2           18.7              198.0   \n",
              "\n",
              "        sex  year  body_mass_kg  \n",
              "0      male  2007         3.750  \n",
              "1    female  2007         3.800  \n",
              "2    female  2007         3.250  \n",
              "4    female  2007         3.450  \n",
              "5      male  2007         3.650  \n",
              "..      ...   ...           ...  \n",
              "339    male  2009         4.000  \n",
              "340  female  2009         3.400  \n",
              "341    male  2009         3.775  \n",
              "342    male  2009         4.100  \n",
              "343  female  2009         3.775  \n",
              "\n",
              "[333 rows x 8 columns]"
            ]
          },
          "execution_count": 123,
          "metadata": {},
          "output_type": "execute_result"
        }
      ],
      "source": [
        "penguins_mass_kg = penguins_without_na.assign(body_mass_kg=penguins_without_na.body_mass_g / 1000)\n",
        "penguins_mass_kg = penguins_mass_kg.drop(columns=[\"body_mass_g\"])\n",
        "penguins_mass_kg"
      ]
    }
  ],
  "metadata": {
    "colab": {
      "collapsed_sections": [],
      "provenance": []
    },
    "kernelspec": {
      "display_name": "Python 3 (ipykernel)",
      "language": "python",
      "name": "python3"
    },
    "language_info": {
      "codemirror_mode": {
        "name": "ipython",
        "version": 3
      },
      "file_extension": ".py",
      "mimetype": "text/x-python",
      "name": "python",
      "nbconvert_exporter": "python",
      "pygments_lexer": "ipython3",
      "version": "3.10.8"
    },
    "vscode": {
      "interpreter": {
        "hash": "ef5db9917502492c39be2c68247abd3b96fc8b6d5e9abc28854f06c559cff787"
      }
    }
  },
  "nbformat": 4,
  "nbformat_minor": 0
}
